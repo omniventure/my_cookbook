{
 "cells": [
  {
   "cell_type": "markdown",
   "metadata": {},
   "source": [
    "# Python Cookbook\n",
    "The intent of the notebook is to gather in one place all the things python can do in small snippets of code on Jupyter Notebooks. \n",
    "\n",
    "Hopefully, this will allow you to explore all the useful features of python in one place from all other places."
   ]
  },
  {
   "cell_type": "markdown",
   "metadata": {},
   "source": [
    "**Everything in python is an object**\n",
    "\n",
    "This means everything from datatypes, functions and modules are objects which have stored values and properties which can be accessed using methods(dot-notation) or called and passed through built-in or custom objects. \n",
    "\n",
    "The goal is to understand how this would look like in production. "
   ]
  },
  {
   "cell_type": "code",
   "execution_count": 1,
   "metadata": {},
   "outputs": [],
   "source": [
    "a = 'This is string'"
   ]
  },
  {
   "cell_type": "code",
   "execution_count": 6,
   "metadata": {},
   "outputs": [
    {
     "name": "stdout",
     "output_type": "stream",
     "text": [
      "This is string\n",
      "THIS IS STRING\n",
      "8\n"
     ]
    }
   ],
   "source": [
    "print(a)\n",
    "print(a.upper())\n",
    "print(a.index('string'))"
   ]
  },
  {
   "cell_type": "code",
   "execution_count": null,
   "metadata": {},
   "outputs": [],
   "source": []
  }
 ],
 "metadata": {
  "kernelspec": {
   "display_name": "Python 3",
   "language": "python",
   "name": "python3"
  },
  "language_info": {
   "codemirror_mode": {
    "name": "ipython",
    "version": 3
   },
   "file_extension": ".py",
   "mimetype": "text/x-python",
   "name": "python",
   "nbconvert_exporter": "python",
   "pygments_lexer": "ipython3",
   "version": "3.7.4"
  }
 },
 "nbformat": 4,
 "nbformat_minor": 2
}
